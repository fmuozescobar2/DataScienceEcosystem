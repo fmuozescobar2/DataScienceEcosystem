{
  "metadata": {
    "kernelspec": {
      "name": "python",
      "display_name": "Python (Pyodide)",
      "language": "python"
    },
    "language_info": {
      "codemirror_mode": {
        "name": "python",
        "version": 3
      },
      "file_extension": ".py",
      "mimetype": "text/x-python",
      "name": "python",
      "nbconvert_exporter": "python",
      "pygments_lexer": "ipython3",
      "version": "3.8"
    }
  },
  "nbformat_minor": 4,
  "nbformat": 4,
  "cells": [
    {
      "cell_type": "markdown",
      "source": "# Data Science Tools and Ecosystem",
      "metadata": {},
      "attachments": {}
    },
    {
      "cell_type": "markdown",
      "source": "## In this notebook, the tools and ecosystems of data science are summarized.",
      "metadata": {}
    },
    {
      "cell_type": "markdown",
      "source": "### **Objectives**\n+ List popular programming languages for Data Science\n+ Describe commonly used libraries in Data Science\n+ Solve arithmetic operations in Python\n",
      "metadata": {}
    },
    {
      "cell_type": "markdown",
      "source": "### Some of the popular languages used by data scientists are:\n- Python\n- R\n-  SQL\n- Julia\n- MATLAB",
      "metadata": {}
    },
    {
      "cell_type": "markdown",
      "source": "### Some of the libraries commonly used by data scientists include:\n- TensorFlow\n- Pandas\n- ggplot2",
      "metadata": {}
    },
    {
      "cell_type": "markdown",
      "source": "## DATA SCIENCE TOOLS\n| Data Science Tools |\n| -------------|\n| Jupyter Notebook |\n| RStudio |\n| Apache Zeppelin |\n",
      "metadata": {}
    },
    {
      "cell_type": "markdown",
      "source": "### Below are some examples of evaluating arithmetic expressions in Python.\n",
      "metadata": {}
    },
    {
      "cell_type": "markdown",
      "source": "#### This is a simple arithmetic expression to multiply and then add integers:\n\n\n",
      "metadata": {}
    },
    {
      "cell_type": "code",
      "source": "result = (3*4)+5\nprint(result)",
      "metadata": {
        "trusted": true
      },
      "outputs": [
        {
          "name": "stdout",
          "text": "17\n",
          "output_type": "stream"
        }
      ],
      "execution_count": 3
    },
    {
      "cell_type": "markdown",
      "source": "#### This will convert 200 minutes to hours by dividing by 60.",
      "metadata": {}
    },
    {
      "cell_type": "code",
      "source": "result = 200/60\nprint(f\"The result of 200 minutes converted to hours is: {result}\")",
      "metadata": {
        "trusted": true
      },
      "outputs": [
        {
          "name": "stdout",
          "text": "The result of 200 minutes converted to hours is: 3.3333333333333335\n",
          "output_type": "stream"
        }
      ],
      "execution_count": 6
    },
    {
      "cell_type": "markdown",
      "source": "## Autor\n\nFernanda Muñoz Macaya",
      "metadata": {}
    },
    {
      "cell_type": "code",
      "source": "",
      "metadata": {
        "trusted": true
      },
      "outputs": [],
      "execution_count": null
    }
  ]
}